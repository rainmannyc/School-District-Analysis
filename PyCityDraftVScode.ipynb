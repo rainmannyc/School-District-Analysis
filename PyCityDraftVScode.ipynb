{
 "cells": [
  {
   "cell_type": "code",
   "execution_count": null,
   "source": [
    "# Add the Pandas dependency.\r\n",
    "import pandas as pd"
   ],
   "outputs": [],
   "metadata": {}
  },
  {
   "cell_type": "code",
   "execution_count": null,
   "source": [
    "# Files to load\r\n",
    "school_data_to_load = \"Resources/schools_complete.csv\"\r\n",
    "student_data_to_load = \"Resources/students_complete.csv\""
   ],
   "outputs": [],
   "metadata": {}
  },
  {
   "cell_type": "code",
   "execution_count": null,
   "source": [
    "# Read the school data file and store it in a Pandas DataFrame.\r\n",
    "school_data_df = pd.read_csv(school_data_to_load)\r\n",
    "school_data_df\r\n",
    "\r\n",
    "student_data_df = pd.read_csv(student_data_to_load)\r\n",
    "student_data_df"
   ],
   "outputs": [],
   "metadata": {}
  },
  {
   "cell_type": "code",
   "execution_count": null,
   "source": [
    "# Determine if there are any missing values in the school data.\r\n",
    "school_data_df.count()\r\n",
    "\r\n",
    "student_data_df.count()\r\n",
    "\r\n",
    "# Determine if there are any missing values in the school data.\r\n",
    "school_data_df.isnull()\r\n",
    "\r\n",
    "# Determine if there are any missing values in the student data.\r\n",
    "student_data_df.isnull()\r\n",
    "\r\n",
    "# Determine if there are any missing values in the student data.\r\n",
    "student_data_df.isnull().sum()\r\n",
    "\r\n",
    "# Determine if there are not any missing values in the school data.\r\n",
    "school_data_df.notnull()\r\n",
    "\r\n",
    "# Determine if there are not any missing values in the student data.\r\n",
    "student_data_df.notnull().sum()\r\n",
    "\r\n",
    "# Determine data types for the school DataFrame.\r\n",
    "school_data_df.dtypes\r\n"
   ],
   "outputs": [],
   "metadata": {}
  },
  {
   "cell_type": "code",
   "execution_count": null,
   "source": [
    "# Add each prefix and suffix to remove to a list.\r\n",
    "prefixes_suffixes = [\"Dr. \", \"Mr. \",\"Ms. \", \"Mrs. \", \"Miss \", \" MD\", \" DDS\", \" DVM\", \" PhD\"]\r\n",
    "\r\n",
    "# Iterate through the words in the \"prefixes_suffixes\" list and replace them with an empty space, \"\".\r\n",
    "for word in prefixes_suffixes:\r\n",
    "    student_data_df[\"student_name\"] = student_data_df[\"student_name\"].str.replace(word,\"\")\r\n",
    "    \r\n",
    "student_data_df\r\n"
   ],
   "outputs": [],
   "metadata": {}
  },
  {
   "cell_type": "code",
   "execution_count": null,
   "source": [
    "# Combine the data into a single dataset.\r\n",
    "school_data_complete_df = pd.merge(student_data_df, school_data_df, on=[\"school_name\", \"school_name\"])\r\n",
    "school_data_complete_df"
   ],
   "outputs": [],
   "metadata": {}
  },
  {
   "cell_type": "code",
   "execution_count": null,
   "source": [
    "# Get the total number of students.\r\n",
    "student_count = school_data_complete_df[\"Student ID\"].count()\r\n",
    "student_count"
   ],
   "outputs": [],
   "metadata": {}
  },
  {
   "cell_type": "code",
   "execution_count": null,
   "source": [
    "school_data_complete_df[\"Student ID\"].count()"
   ],
   "outputs": [],
   "metadata": {}
  },
  {
   "cell_type": "code",
   "execution_count": null,
   "source": [
    "school_count = school_data_df[\"school_name\"].count()\r\n",
    "school_count"
   ],
   "outputs": [],
   "metadata": {}
  },
  {
   "cell_type": "code",
   "execution_count": null,
   "source": [
    "# Calculate the total number of schools\r\n",
    "school_count_2 = school_data_complete_df[\"school_name\"].unique()\r\n",
    "school_count_2"
   ],
   "outputs": [],
   "metadata": {}
  },
  {
   "cell_type": "code",
   "execution_count": null,
   "source": [
    "total_budget = school_data_complete_df[\"budget\"].sum()\r\n",
    "total_budget"
   ],
   "outputs": [],
   "metadata": {}
  },
  {
   "cell_type": "code",
   "execution_count": null,
   "source": [
    "# Calculate the total budget.\r\n",
    "total_budget = school_data_df[\"budget\"].sum()\r\n",
    "total_budget"
   ],
   "outputs": [],
   "metadata": {}
  },
  {
   "cell_type": "code",
   "execution_count": null,
   "source": [
    "# Calculate the average reading score.\r\n",
    "average_reading_score = school_data_complete_df[\"reading_score\"].mean()\r\n",
    "average_reading_score"
   ],
   "outputs": [],
   "metadata": {}
  },
  {
   "cell_type": "code",
   "execution_count": null,
   "source": [
    "# Calculate the average math score.\r\n",
    "average_math_score = school_data_complete_df[\"math_score\"].mean()\r\n",
    "average_math_score"
   ],
   "outputs": [],
   "metadata": {}
  },
  {
   "cell_type": "code",
   "execution_count": null,
   "source": [
    "passing_math = school_data_complete_df[school_data_complete_df[\"math_score\"] >= 70]\r\n",
    "passing_math.head()\r\n",
    "\r\n",
    "# Get all the students that are passing reading in a new DataFrame.\r\n",
    "passing_reading = school_data_complete_df[school_data_complete_df[\"reading_score\"] >= 70]"
   ],
   "outputs": [],
   "metadata": {}
  },
  {
   "cell_type": "code",
   "execution_count": null,
   "source": [
    "# Calculate the number of students passing math.\r\n",
    "passing_math_count = passing_math[\"student_name\"].count()\r\n",
    "\r\n",
    "# Calculate the number of students passing reading.\r\n",
    "passing_reading_count = passing_reading[\"student_name\"].count()\r\n",
    "\r\n",
    "print(passing_math_count)\r\n",
    "print(passing_reading_count)"
   ],
   "outputs": [],
   "metadata": {}
  },
  {
   "cell_type": "code",
   "execution_count": null,
   "source": [
    "# Calculate the percent that passed math.\r\n",
    "passing_math_percentage = passing_math_count / float(student_count) * 100\r\n",
    "\r\n",
    "# Calculate the percent that passed reading.\r\n",
    "passing_reading_percentage = passing_reading_count / float(student_count) * 100\r\n",
    "\r\n",
    "print(passing_math_percentage)\r\n",
    "print(passing_reading_percentage)"
   ],
   "outputs": [],
   "metadata": {}
  },
  {
   "cell_type": "code",
   "execution_count": null,
   "source": [
    "# Calculate the students who passed both math and reading.\r\n",
    "passing_math_reading = school_data_complete_df[(school_data_complete_df[\"math_score\"] >= 70) & (school_data_complete_df[\"reading_score\"] >= 70)]\r\n",
    "\r\n",
    "passing_math_reading.head"
   ],
   "outputs": [],
   "metadata": {}
  },
  {
   "cell_type": "code",
   "execution_count": null,
   "source": [
    "passing_math_reading[\"student_name\"].count()\r\n",
    "#passing_math_reading.student_name.count()"
   ],
   "outputs": [],
   "metadata": {}
  },
  {
   "cell_type": "code",
   "execution_count": null,
   "source": [
    "# Calculate the number of students who passed both math and reading.\r\n",
    "overall_passing_math_reading_count = passing_math_reading[\"student_name\"].count()\r\n",
    "overall_passing_math_reading_count"
   ],
   "outputs": [],
   "metadata": {}
  },
  {
   "cell_type": "code",
   "execution_count": null,
   "source": [
    "# Calculate the overall passing percentage.\r\n",
    "overall_passing_percentage = overall_passing_math_reading_count / student_count * 100\r\n",
    "overall_passing_percentage"
   ],
   "outputs": [],
   "metadata": {}
  },
  {
   "cell_type": "code",
   "execution_count": null,
   "source": [
    "# Adding a list of values with keys to create a new DataFrame.\r\n",
    "district_summary_df = pd.DataFrame(\r\n",
    "          [{\"Total Schools\": school_count,\r\n",
    "          \"Total Students\": student_count,\r\n",
    "          \"Total Budget\": total_budget,\r\n",
    "          \"Average Math Score\": average_math_score,\r\n",
    "          \"Average Reading Score\": average_reading_score,\r\n",
    "          \"% Passing Math\": passing_math_percentage,\r\n",
    "         \"% Passing Reading\": passing_reading_percentage,\r\n",
    "        \"% Overall Passing\": overall_passing_percentage}])\r\n",
    "district_summary_df"
   ],
   "outputs": [],
   "metadata": {}
  },
  {
   "cell_type": "code",
   "execution_count": null,
   "source": [
    "# Format the \"Total Students\" to have the comma for a thousands separator.\r\n",
    "district_summary_df[\"Total Students\"] = district_summary_df[\"Total Students\"].map(\"{:,}\".format)\r\n",
    "\r\n",
    "district_summary_df[\"Total Students\"]"
   ],
   "outputs": [],
   "metadata": {}
  },
  {
   "cell_type": "code",
   "execution_count": null,
   "source": [
    "# Format \"Total Budget\" to have the comma for a thousands separator, a decimal separator, and a \"$\".\r\n",
    "\r\n",
    "district_summary_df[\"Total Budget\"] = district_summary_df[\"Total Budget\"].map(\"${:,.2f}\".format)\r\n",
    "\r\n",
    "district_summary_df[\"Total Budget\"]"
   ],
   "outputs": [],
   "metadata": {}
  },
  {
   "cell_type": "code",
   "execution_count": null,
   "source": [
    "# Format the columns.\r\n",
    "district_summary_df[\"Average Math Score\"] = district_summary_df[\"Average Math Score\"].map(\"{:.1f}\".format)\r\n",
    "\r\n",
    "district_summary_df[\"Average Reading Score\"] = district_summary_df[\"Average Reading Score\"].map(\"{:.1f}\".format)\r\n",
    "\r\n",
    "district_summary_df[\"% Passing Math\"] = district_summary_df[\"% Passing Math\"].map(\"{:.0f}\".format)\r\n",
    "\r\n",
    "district_summary_df[\"% Passing Reading\"] = district_summary_df[\"% Passing Reading\"].map(\"{:.0f}\".format)\r\n",
    "\r\n",
    "district_summary_df[\"% Overall Passing\"] = district_summary_df[\"% Overall Passing\"].map(\"{:.0f}\".format)"
   ],
   "outputs": [],
   "metadata": {}
  },
  {
   "cell_type": "code",
   "execution_count": null,
   "source": [
    "district_summary_df"
   ],
   "outputs": [],
   "metadata": {}
  },
  {
   "cell_type": "code",
   "execution_count": null,
   "source": [
    "# Determine the school type.\r\n",
    "per_school_types = school_data_df.set_index([\"school_name\"])[\"type\"]\r\n",
    "per_school_types"
   ],
   "outputs": [],
   "metadata": {}
  },
  {
   "cell_type": "code",
   "execution_count": null,
   "source": [
    "# Add the per_school_types into a DataFrame for testing.\r\n",
    "df = pd.DataFrame(per_school_types)\r\n",
    "df"
   ],
   "outputs": [],
   "metadata": {}
  },
  {
   "cell_type": "code",
   "execution_count": null,
   "source": [
    "# Calculate the total student count.\r\n",
    "per_school_counts = school_data_df[\"size\"]\r\n",
    "per_school_counts"
   ],
   "outputs": [],
   "metadata": {}
  },
  {
   "cell_type": "code",
   "execution_count": null,
   "source": [
    "# Calculate the total student count.\r\n",
    "per_school_counts = school_data_df.set_index([\"school_name\"])[\"size\"]\r\n",
    "per_school_counts"
   ],
   "outputs": [],
   "metadata": {}
  },
  {
   "cell_type": "code",
   "execution_count": null,
   "source": [
    "# Calculate the total school budget.\r\n",
    "per_school_budget = school_data_df.set_index([\"school_name\"])[\"budget\"]\r\n",
    "per_school_budget"
   ],
   "outputs": [],
   "metadata": {}
  },
  {
   "cell_type": "code",
   "execution_count": null,
   "source": [
    "# Calculate the per capita spending.\r\n",
    "per_school_capita = per_school_budget / per_school_counts\r\n",
    "per_school_capita"
   ],
   "outputs": [],
   "metadata": {}
  },
  {
   "cell_type": "code",
   "execution_count": null,
   "source": [
    "# Calculate the math scores.\r\n",
    "student_school_math = student_data_df.set_index([\"school_name\"])[\"math_score\"]"
   ],
   "outputs": [],
   "metadata": {}
  },
  {
   "cell_type": "code",
   "execution_count": null,
   "source": [
    "# Calculate the average math scores.\r\n",
    "per_school_averages = school_data_complete_df.groupby([\"school_name\"]).mean()\r\n",
    "per_school_averages"
   ],
   "outputs": [],
   "metadata": {}
  },
  {
   "cell_type": "code",
   "execution_count": null,
   "source": [
    "# Calculate the average test scores.\r\n",
    "per_school_math = school_data_complete_df.groupby([\"school_name\"]).mean()[\"math_score\"]\r\n",
    "\r\n",
    "per_school_reading = school_data_complete_df.groupby([\"school_name\"]).mean()[\"reading_score\"]\r\n",
    "\r\n",
    "#per_school_math\r\n",
    "#per_school_reading"
   ],
   "outputs": [],
   "metadata": {}
  },
  {
   "cell_type": "code",
   "execution_count": null,
   "source": [
    "# Calculate the passing scores by creating a filtered DataFrame.\r\n",
    "per_school_passing_math = school_data_complete_df[(school_data_complete_df[\"math_score\"] >= 70)]\r\n",
    "\r\n",
    "per_school_passing_reading = school_data_complete_df[(school_data_complete_df[\"reading_score\"] >= 70)]"
   ],
   "outputs": [],
   "metadata": {}
  },
  {
   "cell_type": "code",
   "execution_count": null,
   "source": [
    "# Calculate the number of students passing math and passing reading by school.\r\n",
    "per_school_passing_math = per_school_passing_math.groupby([\"school_name\"]).count()[\"student_name\"]\r\n",
    "\r\n",
    "per_school_passing_reading = per_school_passing_reading.groupby([\"school_name\"]).count()[\"student_name\"]\r\n",
    "\r\n",
    "per_school_passing_math\r\n",
    "#per_school_passing_reading"
   ],
   "outputs": [],
   "metadata": {}
  },
  {
   "cell_type": "code",
   "execution_count": null,
   "source": [
    "# Calculate the percentage of passing math and reading scores per school.\r\n",
    "per_school_passing_math = per_school_passing_math / per_school_counts * 100\r\n",
    "\r\n",
    "per_school_passing_reading = per_school_passing_reading / per_school_counts * 100\r\n",
    "\r\n",
    "per_school_passing_math\r\n",
    "#per_school_passing_reading"
   ],
   "outputs": [],
   "metadata": {}
  },
  {
   "cell_type": "code",
   "execution_count": null,
   "source": [
    "# Calculate the students who passed both math and reading.\r\n",
    "per_passing_math_reading = school_data_complete_df[(school_data_complete_df[\"math_score\"] >= 70) & (school_data_complete_df[\"reading_score\"] >= 70)]\r\n",
    "\r\n",
    "per_passing_math_reading"
   ],
   "outputs": [],
   "metadata": {}
  },
  {
   "cell_type": "code",
   "execution_count": null,
   "source": [
    "# Calculate the number of students who passed both math and reading.\r\n",
    "per_passing_math_reading = per_passing_math_reading.groupby([\"school_name\"]).count()[\"student_name\"]"
   ],
   "outputs": [],
   "metadata": {}
  },
  {
   "cell_type": "code",
   "execution_count": null,
   "source": [
    "# Calculate the overall passing percentage.\r\n",
    "per_overall_passing_percentage = per_passing_math_reading / per_school_counts * 100\r\n",
    "\r\n",
    "per_overall_passing_percentage"
   ],
   "outputs": [],
   "metadata": {}
  },
  {
   "cell_type": "code",
   "execution_count": null,
   "source": [
    "# Adding a list of values with keys to create a new DataFrame.\r\n",
    "\r\n",
    "per_school_summary_df = pd.DataFrame({\r\n",
    "             \"School Type\": per_school_types,\r\n",
    "             \"Total Students\": per_school_counts,\r\n",
    "             \"Total School Budget\": per_school_budget,\r\n",
    "             \"Per Student Budget\": per_school_capita,\r\n",
    "             \"Average Math Score\": per_school_math,\r\n",
    "           \"Average Reading Score\": per_school_reading,\r\n",
    "           \"% Passing Math\": per_school_passing_math,\r\n",
    "           \"% Passing Reading\": per_school_passing_reading,\r\n",
    "           \"% Overall Passing\": per_overall_passing_percentage})\r\n",
    "per_school_summary_df.head()"
   ],
   "outputs": [],
   "metadata": {}
  },
  {
   "cell_type": "code",
   "execution_count": null,
   "source": [
    "# Format the Total School Budget and the Per Student Budget columns.\r\n",
    "per_school_summary_df[\"Total School Budget\"] = per_school_summary_df[\"Total School Budget\"].map(\"${:,.2f}\".format)\r\n",
    "\r\n",
    "per_school_summary_df[\"Per Student Budget\"] = per_school_summary_df[\"Per Student Budget\"].map(\"${:,.2f}\".format)\r\n",
    "\r\n",
    "\r\n",
    "# Display the data frame\r\n",
    "per_school_summary_df"
   ],
   "outputs": [],
   "metadata": {}
  },
  {
   "cell_type": "code",
   "execution_count": null,
   "source": [
    "# Sort and show top five schools.\r\n",
    "top_schools = per_school_summary_df.sort_values([\"% Overall Passing\"], ascending=False)\r\n",
    "\r\n",
    "top_schools.head()"
   ],
   "outputs": [],
   "metadata": {}
  },
  {
   "cell_type": "code",
   "execution_count": null,
   "source": [
    "bottom_schools = per_school_summary_df.sort_values([\"% Overall Passing\"])\r\n",
    "bottom_schools.head()"
   ],
   "outputs": [],
   "metadata": {}
  },
  {
   "cell_type": "code",
   "execution_count": null,
   "source": [
    "# Create a grade level DataFrames.\r\n",
    "ninth_graders = school_data_complete_df[(school_data_complete_df[\"grade\"] == \"9th\")]\r\n",
    "\r\n",
    "tenth_graders = school_data_complete_df[(school_data_complete_df[\"grade\"] == \"10th\")]\r\n",
    "\r\n",
    "eleventh_graders = school_data_complete_df[(school_data_complete_df[\"grade\"] == \"11th\")]\r\n",
    "\r\n",
    "twelfth_graders = school_data_complete_df[(school_data_complete_df[\"grade\"] == \"12th\")]"
   ],
   "outputs": [],
   "metadata": {}
  },
  {
   "cell_type": "code",
   "execution_count": null,
   "source": [
    "# Group each grade level DataFrame by the school name for the average math score.\r\n",
    "ninth_grade_math_scores = ninth_graders.groupby([\"school_name\"]).mean()[\"math_score\"]\r\n",
    "\r\n",
    "tenth_grade_math_scores = tenth_graders.groupby([\"school_name\"]).mean()[\"math_score\"]\r\n",
    "\r\n",
    "eleventh_grade_math_scores = eleventh_graders.groupby([\"school_name\"]).mean()[\"math_score\"]\r\n",
    "\r\n",
    "twelfth_grade_math_scores = twelfth_graders.groupby([\"school_name\"]).mean()[\"math_score\"]\r\n",
    "\r\n",
    "eleventh_grade_math_scores"
   ],
   "outputs": [],
   "metadata": {}
  },
  {
   "cell_type": "code",
   "execution_count": null,
   "source": [
    "# Group each grade level DataFrame by the school name for the average reading score.\r\n",
    "ninth_grade_reading_scores = ninth_graders.groupby([\"school_name\"]).mean()[\"reading_score\"]\r\n",
    "\r\n",
    "tenth_grade_reading_scores = tenth_graders.groupby([\"school_name\"]).mean()[\"reading_score\"]\r\n",
    "\r\n",
    "eleventh_grade_reading_scores = eleventh_graders.groupby([\"school_name\"]).mean()[\"reading_score\"]\r\n",
    "\r\n",
    "twelfth_grade_reading_scores = twelfth_graders.groupby([\"school_name\"]).mean()[\"reading_score\"]\r\n",
    "\r\n",
    "twelfth_grade_reading_scores"
   ],
   "outputs": [],
   "metadata": {}
  },
  {
   "cell_type": "code",
   "execution_count": null,
   "source": [
    "# Combine each grade level Series for average math scores by school into a single DataFrame.\r\n",
    "math_scores_by_grade = pd.DataFrame({\r\n",
    "               \"9th\": ninth_grade_math_scores,\r\n",
    "               \"10th\": tenth_grade_math_scores,\r\n",
    "               \"11th\": eleventh_grade_math_scores,\r\n",
    "               \"12th\": twelfth_grade_math_scores})\r\n",
    "\r\n",
    "math_scores_by_grade.head()"
   ],
   "outputs": [],
   "metadata": {}
  },
  {
   "cell_type": "code",
   "execution_count": null,
   "source": [
    "# Combine each grade level Series for average reading scores by school into a single DataFrame.\r\n",
    "reading_scores_by_grade = pd.DataFrame({\r\n",
    "              \"9th\": ninth_grade_reading_scores,\r\n",
    "              \"10th\": tenth_grade_reading_scores,\r\n",
    "              \"11th\": eleventh_grade_reading_scores,\r\n",
    "              \"12th\": twelfth_grade_reading_scores})\r\n",
    "\r\n",
    "reading_scores_by_grade.head()"
   ],
   "outputs": [],
   "metadata": {}
  },
  {
   "cell_type": "code",
   "execution_count": null,
   "source": [
    "  # Format each grade column.\r\n",
    "  math_scores_by_grade[\"9th\"] = math_scores_by_grade[\"9th\"].map(\"{:.1f}\".format)\r\n",
    "\r\n",
    "  math_scores_by_grade[\"10th\"] = math_scores_by_grade[\"10th\"].map(\"{:.1f}\".format)\r\n",
    "\r\n",
    "  math_scores_by_grade[\"11th\"] = math_scores_by_grade[\"11th\"].map(\"{:.1f}\".format)\r\n",
    "\r\n",
    "  math_scores_by_grade[\"12th\"] = math_scores_by_grade[\"12th\"].map(\"{:.1f}\".format)\r\n",
    "\r\n",
    "  # Make sure the columns are in the correct order.\r\n",
    "  math_scores_by_grade = math_scores_by_grade[\r\n",
    "                 [\"9th\", \"10th\", \"11th\", \"12th\"]]\r\n",
    "\r\n",
    "  # Remove the index name.\r\n",
    "  math_scores_by_grade.index.name = None\r\n",
    "  # Display the DataFrame.\r\n",
    "  math_scores_by_grade.head()"
   ],
   "outputs": [],
   "metadata": {}
  },
  {
   "cell_type": "code",
   "execution_count": null,
   "source": [
    "  # Format each grade column.\r\n",
    "  reading_scores_by_grade[\"9th\"] = reading_scores_by_grade[\"9th\"].map(\"{:,.1f}\".format)\r\n",
    "\r\n",
    "  reading_scores_by_grade[\"10th\"] = reading_scores_by_grade[\"10th\"].map(\"{:,.1f}\".format)\r\n",
    "\r\n",
    "  reading_scores_by_grade[\"11th\"] = reading_scores_by_grade[\"11th\"].map(\"{:,.1f}\".format)\r\n",
    "\r\n",
    "  reading_scores_by_grade[\"12th\"] = reading_scores_by_grade[\"12th\"].map(\"{:,.1f}\".format)\r\n",
    "\r\n",
    "  # Make sure the columns are in the correct order.\r\n",
    "  reading_scores_by_grade = reading_scores_by_grade[\r\n",
    "                 [\"9th\", \"10th\", \"11th\", \"12th\"]]\r\n",
    "\r\n",
    "  # Remove the index name.\r\n",
    "  reading_scores_by_grade.index.name = None\r\n",
    "  # Display the data frame.\r\n",
    "  reading_scores_by_grade.head()"
   ],
   "outputs": [],
   "metadata": {}
  },
  {
   "cell_type": "code",
   "execution_count": null,
   "source": [
    "# Get the descriptive statistics for the per_school_capita.\r\n",
    "per_school_capita.describe()"
   ],
   "outputs": [],
   "metadata": {}
  },
  {
   "cell_type": "code",
   "execution_count": null,
   "source": [
    "# Cut the per_school_capita into the spending ranges.\r\n",
    "#spending_bins = [585, 615, 645, 675]\r\n",
    "#pd.cut(per_school_capita, spending_bins)"
   ],
   "outputs": [],
   "metadata": {}
  },
  {
   "cell_type": "code",
   "execution_count": null,
   "source": [
    "# Cut the per_school_capita into the spending ranges.\r\n",
    "spending_bins = [0, 585, 615, 645, 675]\r\n",
    "per_school_capita.groupby(pd.cut(per_school_capita, spending_bins)).count()"
   ],
   "outputs": [],
   "metadata": {}
  },
  {
   "cell_type": "code",
   "execution_count": null,
   "source": [
    "# Establish the spending bins and group names.\r\n",
    "spending_bins = [0, 585, 630, 645, 675]\r\n",
    "group_names = [\"<$584\", \"$585-629\", \"$630-644\", \"$645-675\"]"
   ],
   "outputs": [],
   "metadata": {}
  },
  {
   "cell_type": "code",
   "execution_count": null,
   "source": [
    "# Categorize spending based on the bins.\r\n",
    "per_school_summary_df[\"Spending Ranges (Per Student)\"] = pd.cut(per_school_capita, spending_bins, labels=group_names)\r\n",
    "\r\n",
    "per_school_summary_df"
   ],
   "outputs": [],
   "metadata": {}
  },
  {
   "cell_type": "code",
   "execution_count": null,
   "source": [
    "# Calculate averages for the desired columns.\r\n",
    "spending_math_scores = per_school_summary_df.groupby([\"Spending Ranges (Per Student)\"]).mean()[\"Average Math Score\"]\r\n",
    "\r\n",
    "spending_reading_scores = per_school_summary_df.groupby([\"Spending Ranges (Per Student)\"]).mean()[\"Average Reading Score\"]\r\n",
    "\r\n",
    "spending_passing_math = per_school_summary_df.groupby([\"Spending Ranges (Per Student)\"]).mean()[\"% Passing Math\"]\r\n",
    "\r\n",
    "spending_passing_reading = per_school_summary_df.groupby([\"Spending Ranges (Per Student)\"]).mean()[\"% Passing Reading\"]\r\n",
    "\r\n",
    "overall_passing_spending = per_school_summary_df.groupby([\"Spending Ranges (Per Student)\"]).mean()[\"% Overall Passing\"]\r\n"
   ],
   "outputs": [],
   "metadata": {}
  },
  {
   "cell_type": "code",
   "execution_count": null,
   "source": [
    "overall_passing_spending"
   ],
   "outputs": [],
   "metadata": {}
  },
  {
   "cell_type": "code",
   "execution_count": null,
   "source": [
    "# Assemble into DataFrame.\r\n",
    "spending_summary_df = pd.DataFrame({\r\n",
    "          \"Average Math Score\" : spending_math_scores,\r\n",
    "          \"Average Reading Score\": spending_reading_scores,\r\n",
    "          \"% Passing Math\": spending_passing_math,\r\n",
    "          \"% Passing Reading\": spending_passing_reading,\r\n",
    "          \"% Overall Passing\": overall_passing_spending})\r\n",
    "\r\n",
    "spending_summary_df"
   ],
   "outputs": [],
   "metadata": {}
  },
  {
   "cell_type": "code",
   "execution_count": null,
   "source": [
    "# Formatting\r\n",
    "spending_summary_df[\"Average Math Score\"] = spending_summary_df[\"Average Math Score\"].map(\"{:.1f}\".format)\r\n",
    "\r\n",
    "spending_summary_df[\"Average Reading Score\"] = spending_summary_df[\"Average Reading Score\"].map(\"{:.1f}\".format)\r\n",
    "\r\n",
    "spending_summary_df[\"% Passing Math\"] = spending_summary_df[\"% Passing Math\"].map(\"{:.0f}\".format)\r\n",
    "\r\n",
    "spending_summary_df[\"% Passing Reading\"] = spending_summary_df[\"% Passing Reading\"].map(\"{:.0f}\".format)\r\n",
    "\r\n",
    "spending_summary_df[\"% Overall Passing\"] = spending_summary_df[\"% Overall Passing\"].map(\"{:.0f}\".format)\r\n",
    "\r\n",
    "spending_summary_df"
   ],
   "outputs": [],
   "metadata": {}
  },
  {
   "cell_type": "code",
   "execution_count": null,
   "source": [
    "# Establish the bins.\r\n",
    "size_bins = [0, 1000, 2000, 5000]\r\n",
    "group_names = [\"Small (<1000)\", \"Medium (1000-2000)\", \"Large (2000-5000)\"]"
   ],
   "outputs": [],
   "metadata": {}
  },
  {
   "cell_type": "code",
   "execution_count": null,
   "source": [
    "# Categorize spending based on the bins.\r\n",
    "per_school_summary_df[\"School Size\"] = pd.cut(per_school_summary_df[\"Total Students\"], size_bins, labels=group_names)\r\n",
    "\r\n",
    "per_school_summary_df.head()"
   ],
   "outputs": [],
   "metadata": {}
  },
  {
   "cell_type": "code",
   "execution_count": null,
   "source": [
    "# Calculate averages for the desired columns.\r\n",
    "size_math_scores = per_school_summary_df.groupby([\"School Size\"]).mean()[\"Average Math Score\"]\r\n",
    "\r\n",
    "size_reading_scores = per_school_summary_df.groupby([\"School Size\"]).mean()[\"Average Reading Score\"]\r\n",
    "\r\n",
    "size_passing_math = per_school_summary_df.groupby([\"School Size\"]).mean()[\"% Passing Math\"]\r\n",
    "\r\n",
    "size_passing_reading = per_school_summary_df.groupby([\"School Size\"]).mean()[\"% Passing Reading\"]\r\n",
    "\r\n",
    "size_overall_passing = per_school_summary_df.groupby([\"School Size\"]).mean()[\"% Overall Passing\"]"
   ],
   "outputs": [],
   "metadata": {}
  },
  {
   "cell_type": "code",
   "execution_count": null,
   "source": [
    "# Assemble into DataFrame.\r\n",
    "size_summary_df = pd.DataFrame({\r\n",
    "          \"Average Math Score\" : size_math_scores,\r\n",
    "          \"Average Reading Score\": size_reading_scores,\r\n",
    "          \"% Passing Math\": size_passing_math,\r\n",
    "          \"% Passing Reading\": size_passing_reading,\r\n",
    "          \"% Overall Passing\": size_overall_passing})\r\n",
    "\r\n",
    "size_summary_df"
   ],
   "outputs": [],
   "metadata": {}
  },
  {
   "cell_type": "code",
   "execution_count": null,
   "source": [
    "# Formatting.\r\n",
    "size_summary_df[\"Average Math Score\"] = size_summary_df[\"Average Math Score\"].map(\"{:.1f}\".format)\r\n",
    "\r\n",
    "size_summary_df[\"Average Reading Score\"] = size_summary_df[\"Average Reading Score\"].map(\"{:.1f}\".format)\r\n",
    "\r\n",
    "size_summary_df[\"% Passing Math\"] = size_summary_df[\"% Passing Math\"].map(\"{:.0f}\".format)\r\n",
    "\r\n",
    "size_summary_df[\"% Passing Reading\"] = size_summary_df[\"% Passing Reading\"].map(\"{:.0f}\".format)\r\n",
    "\r\n",
    "size_summary_df[\"% Overall Passing\"] = size_summary_df[\"% Overall Passing\"].map(\"{:.0f}\".format)\r\n",
    "\r\n",
    "size_summary_df"
   ],
   "outputs": [],
   "metadata": {}
  },
  {
   "cell_type": "code",
   "execution_count": 100,
   "source": [
    "# Calculate averages for the desired columns.\r\n",
    "type_math_scores = per_school_summary_df.groupby([\"School Type\"]).mean()[\"Average Math Score\"]\r\n",
    "\r\n",
    "type_reading_scores = per_school_summary_df.groupby([\"School Type\"]).mean()[\"Average Reading Score\"]\r\n",
    "\r\n",
    "type_passing_math = per_school_summary_df.groupby([\"School Type\"]).mean()[\"% Passing Math\"]\r\n",
    "\r\n",
    "type_passing_reading = per_school_summary_df.groupby([\"School Type\"]).mean()[\"% Passing Reading\"]\r\n",
    "\r\n",
    "type_overall_passing = per_school_summary_df.groupby([\"School Type\"]).mean()[\"% Overall Passing\"]"
   ],
   "outputs": [],
   "metadata": {}
  },
  {
   "cell_type": "code",
   "execution_count": 98,
   "source": [
    "# Assemble into DataFrame.\r\n",
    "type_summary_df = pd.DataFrame({\r\n",
    "          \"Average Math Score\" : type_math_scores,\r\n",
    "          \"Average Reading Score\": type_reading_scores,\r\n",
    "          \"% Passing Math\": type_passing_math,\r\n",
    "          \"% Passing Reading\": type_passing_reading,\r\n",
    "          \"% Overall Passing\": type_overall_passing})\r\n",
    "\r\n",
    "type_summary_df"
   ],
   "outputs": [
    {
     "output_type": "execute_result",
     "data": {
      "text/plain": [
       "             Average Math Score  Average Reading Score  % Passing Math  \\\n",
       "School Type                                                              \n",
       "Charter               83.473852              83.896421       93.620830   \n",
       "District              76.956733              80.966636       66.548453   \n",
       "\n",
       "             % Passing Reading  % Overall Passing  \n",
       "School Type                                        \n",
       "Charter              96.586489          90.432244  \n",
       "District             80.799062          53.672208  "
      ],
      "text/html": [
       "<div>\n",
       "<style scoped>\n",
       "    .dataframe tbody tr th:only-of-type {\n",
       "        vertical-align: middle;\n",
       "    }\n",
       "\n",
       "    .dataframe tbody tr th {\n",
       "        vertical-align: top;\n",
       "    }\n",
       "\n",
       "    .dataframe thead th {\n",
       "        text-align: right;\n",
       "    }\n",
       "</style>\n",
       "<table border=\"1\" class=\"dataframe\">\n",
       "  <thead>\n",
       "    <tr style=\"text-align: right;\">\n",
       "      <th></th>\n",
       "      <th>Average Math Score</th>\n",
       "      <th>Average Reading Score</th>\n",
       "      <th>% Passing Math</th>\n",
       "      <th>% Passing Reading</th>\n",
       "      <th>% Overall Passing</th>\n",
       "    </tr>\n",
       "    <tr>\n",
       "      <th>School Type</th>\n",
       "      <th></th>\n",
       "      <th></th>\n",
       "      <th></th>\n",
       "      <th></th>\n",
       "      <th></th>\n",
       "    </tr>\n",
       "  </thead>\n",
       "  <tbody>\n",
       "    <tr>\n",
       "      <th>Charter</th>\n",
       "      <td>83.473852</td>\n",
       "      <td>83.896421</td>\n",
       "      <td>93.620830</td>\n",
       "      <td>96.586489</td>\n",
       "      <td>90.432244</td>\n",
       "    </tr>\n",
       "    <tr>\n",
       "      <th>District</th>\n",
       "      <td>76.956733</td>\n",
       "      <td>80.966636</td>\n",
       "      <td>66.548453</td>\n",
       "      <td>80.799062</td>\n",
       "      <td>53.672208</td>\n",
       "    </tr>\n",
       "  </tbody>\n",
       "</table>\n",
       "</div>"
      ]
     },
     "metadata": {},
     "execution_count": 98
    }
   ],
   "metadata": {}
  },
  {
   "cell_type": "code",
   "execution_count": 99,
   "source": [
    "# Formatting\r\n",
    "type_summary_df[\"Average Math Score\"] = type_summary_df[\"Average Math Score\"].map(\"{:.1f}\".format)\r\n",
    "\r\n",
    "type_summary_df[\"Average Reading Score\"] = type_summary_df[\"Average Reading Score\"].map(\"{:.1f}\".format)\r\n",
    "\r\n",
    "type_summary_df[\"% Passing Math\"] = type_summary_df[\"% Passing Math\"].map(\"{:.0f}\".format)\r\n",
    "\r\n",
    "type_summary_df[\"% Passing Reading\"] = type_summary_df[\"% Passing Reading\"].map(\"{:.0f}\".format)\r\n",
    "\r\n",
    "type_summary_df[\"% Overall Passing\"] = type_summary_df[\"% Overall Passing\"].map(\"{:.0f}\".format)\r\n",
    "\r\n",
    "type_summary_df"
   ],
   "outputs": [
    {
     "output_type": "execute_result",
     "data": {
      "text/plain": [
       "            Average Math Score Average Reading Score % Passing Math  \\\n",
       "School Type                                                           \n",
       "Charter                   83.5                  83.9             94   \n",
       "District                  77.0                  81.0             67   \n",
       "\n",
       "            % Passing Reading % Overall Passing  \n",
       "School Type                                      \n",
       "Charter                    97                90  \n",
       "District                   81                54  "
      ],
      "text/html": [
       "<div>\n",
       "<style scoped>\n",
       "    .dataframe tbody tr th:only-of-type {\n",
       "        vertical-align: middle;\n",
       "    }\n",
       "\n",
       "    .dataframe tbody tr th {\n",
       "        vertical-align: top;\n",
       "    }\n",
       "\n",
       "    .dataframe thead th {\n",
       "        text-align: right;\n",
       "    }\n",
       "</style>\n",
       "<table border=\"1\" class=\"dataframe\">\n",
       "  <thead>\n",
       "    <tr style=\"text-align: right;\">\n",
       "      <th></th>\n",
       "      <th>Average Math Score</th>\n",
       "      <th>Average Reading Score</th>\n",
       "      <th>% Passing Math</th>\n",
       "      <th>% Passing Reading</th>\n",
       "      <th>% Overall Passing</th>\n",
       "    </tr>\n",
       "    <tr>\n",
       "      <th>School Type</th>\n",
       "      <th></th>\n",
       "      <th></th>\n",
       "      <th></th>\n",
       "      <th></th>\n",
       "      <th></th>\n",
       "    </tr>\n",
       "  </thead>\n",
       "  <tbody>\n",
       "    <tr>\n",
       "      <th>Charter</th>\n",
       "      <td>83.5</td>\n",
       "      <td>83.9</td>\n",
       "      <td>94</td>\n",
       "      <td>97</td>\n",
       "      <td>90</td>\n",
       "    </tr>\n",
       "    <tr>\n",
       "      <th>District</th>\n",
       "      <td>77.0</td>\n",
       "      <td>81.0</td>\n",
       "      <td>67</td>\n",
       "      <td>81</td>\n",
       "      <td>54</td>\n",
       "    </tr>\n",
       "  </tbody>\n",
       "</table>\n",
       "</div>"
      ]
     },
     "metadata": {},
     "execution_count": 99
    }
   ],
   "metadata": {}
  },
  {
   "cell_type": "code",
   "execution_count": null,
   "source": [],
   "outputs": [],
   "metadata": {}
  },
  {
   "cell_type": "code",
   "execution_count": null,
   "source": [
    "class Cat:\r\n",
    "    def __init__(self, name):\r\n",
    "        self.name = name"
   ],
   "outputs": [],
   "metadata": {}
  },
  {
   "cell_type": "code",
   "execution_count": null,
   "source": [
    "first_cat = Cat('Ninjo')\r\n",
    "print(first_cat.name)"
   ],
   "outputs": [],
   "metadata": {}
  },
  {
   "cell_type": "code",
   "execution_count": null,
   "source": [
    "second_cat = Cat('Garfield')\r\n",
    "print(second_cat.name)"
   ],
   "outputs": [],
   "metadata": {}
  },
  {
   "cell_type": "code",
   "execution_count": null,
   "source": [
    "class Dog:\r\n",
    "    def __init__(self, name, color, sound):\r\n",
    "        self.name = name\r\n",
    "        self.color = color\r\n",
    "        self.sound = sound\r\n",
    "\r\n",
    "    def bark(self):\r\n",
    "        return self.sound + ' ' + self.sound"
   ],
   "outputs": [],
   "metadata": {}
  },
  {
   "cell_type": "code",
   "execution_count": null,
   "source": [
    "first_dog = Dog('Roxy', 'Tan', 'rawf!')\r\n",
    "print(first_dog.name)\r\n",
    "print(first_dog.color)\r\n",
    "first_dog.bark()"
   ],
   "outputs": [],
   "metadata": {}
  },
  {
   "cell_type": "code",
   "execution_count": null,
   "source": [
    "second_dog = Dog('Lady', 'blonde', 'arf!')\r\n",
    "print(second_dog.name)\r\n",
    "print(second_dog.color)\r\n",
    "second_dog.bark()"
   ],
   "outputs": [],
   "metadata": {}
  },
  {
   "cell_type": "code",
   "execution_count": null,
   "source": [
    "# Reorder the columns in the order you want them to appear.\r\n",
    "#ew_column_order = [\"School Type\", \"Total Students\", \"Total School Budget\", \"Per Student Budget\", \"Average Math Score\", \"Average Reading Score\", \"% Passing Math\", \"% Passing Reading\", \"% Overall Passing\"]\r\n",
    "\r\n",
    "# Assign district summary df the new column order.\r\n",
    "#per_school_summary_df = per_school_summary_df[new_column_order]\r\n",
    "\r\n",
    "#per_school_summary_df.head()"
   ],
   "outputs": [],
   "metadata": {}
  }
 ],
 "metadata": {
  "kernelspec": {
   "display_name": "Python 3 (ipykernel)",
   "language": "python",
   "name": "python3"
  },
  "language_info": {
   "codemirror_mode": {
    "name": "ipython",
    "version": 3
   },
   "file_extension": ".py",
   "mimetype": "text/x-python",
   "name": "python",
   "nbconvert_exporter": "python",
   "pygments_lexer": "ipython3",
   "version": "3.9.6"
  }
 },
 "nbformat": 4,
 "nbformat_minor": 5
}