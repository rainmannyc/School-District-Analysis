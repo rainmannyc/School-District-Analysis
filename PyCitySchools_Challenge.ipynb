{
 "cells": [
  {
   "cell_type": "code",
   "execution_count": null,
   "source": [
    "# Dependencies and Setup\n",
    "import pandas as pd\n",
    "\n",
    "# File to Load (Remember to change the path if needed.)\n",
    "school_data_to_load = \"Resources/schools_complete.csv\"\n",
    "student_data_to_load = \"Resources/students_complete.csv\"\n",
    "\n",
    "# Read the School Data and Student Data and store into a Pandas DataFrame\n",
    "school_data_df = pd.read_csv(school_data_to_load)\n",
    "student_data_df = pd.read_csv(student_data_to_load)\n",
    "\n",
    "# Cleaning Student Names and Replacing Substrings in a Python String\n",
    "# Add each prefix and suffix to remove to a list.\n",
    "prefixes_suffixes = [\"Dr. \", \"Mr. \",\"Ms. \", \"Mrs. \", \"Miss \", \" MD\", \" DDS\", \" DVM\", \" PhD\"]\n",
    "\n",
    "# Iterate through the words in the \"prefixes_suffixes\" list and replace them with an empty space, \"\".\n",
    "for word in prefixes_suffixes:\n",
    "    student_data_df[\"student_name\"] = student_data_df[\"student_name\"].str.replace(word,\"\")\n",
    "\n",
    "# Check names.\n",
    "student_data_df.head(10)"
   ],
   "outputs": [],
   "metadata": {}
  },
  {
   "cell_type": "code",
   "execution_count": null,
   "source": [
    "# Install numpy using conda install numpy or pip install numpy. \n",
    "# Step 1. Import numpy as np.\n",
    "import numpy as np"
   ],
   "outputs": [],
   "metadata": {}
  },
  {
   "cell_type": "code",
   "execution_count": null,
   "source": [
    "# Step 2. Use the loc method on the student_data_df to select all the reading scores from the 9th grade at Thomas High School and replace them with NaN.\n",
    "student_data_df.loc[(student_data_df[\"school_name\"] == \"Thomas High School\") & (student_data_df[\"grade\"] == \"9th\"), \"reading_score\"] = np.nan"
   ],
   "outputs": [],
   "metadata": {}
  },
  {
   "cell_type": "code",
   "execution_count": null,
   "source": [
    "#  Step 3. Refactor the code in Step 2 to replace the math scores with NaN.\n",
    "student_data_df.loc[(student_data_df[\"school_name\"] == \"Thomas High School\") & (student_data_df[\"grade\"] == \"9th\"), \"math_score\"] = np.nan"
   ],
   "outputs": [],
   "metadata": {}
  },
  {
   "cell_type": "code",
   "execution_count": null,
   "source": [
    "#  Step 4. Check the student data for NaN's. \r\n",
    "student_data_df"
   ],
   "outputs": [],
   "metadata": {
    "scrolled": true
   }
  },
  {
   "cell_type": "code",
   "execution_count": null,
   "source": [
    "# Combine the data into a single dataset\r\n",
    "school_data_complete_df = pd.merge(student_data_df, school_data_df, how=\"left\", on=[\"school_name\", \"school_name\"])\r\n",
    "school_data_complete_df.head()"
   ],
   "outputs": [],
   "metadata": {}
  },
  {
   "cell_type": "code",
   "execution_count": null,
   "source": [
    "# Calculate the Totals (Schools and Students)\r\n",
    "school_count = len(school_data_complete_df[\"school_name\"].unique())\r\n",
    "student_count = school_data_complete_df[\"Student ID\"].count()\r\n",
    "\r\n",
    "# Calculate the Total Budget\r\n",
    "total_budget = school_data_df[\"budget\"].sum()"
   ],
   "outputs": [],
   "metadata": {}
  },
  {
   "cell_type": "code",
   "execution_count": null,
   "source": [
    "# Calculate the Average Scores using the \"clean_student_data\".\r\n",
    "average_reading_score = school_data_complete_df[\"reading_score\"].mean()\r\n",
    "average_math_score = school_data_complete_df[\"math_score\"].mean()"
   ],
   "outputs": [],
   "metadata": {}
  },
  {
   "cell_type": "code",
   "execution_count": null,
   "source": [
    "# Step 1. Get the number of students that are in ninth grade at Thomas High School.\r\n",
    "# These students have no grades. \r\n",
    "\r\n",
    "ths_student_count = school_data_complete_df.loc[(school_data_complete_df[\"school_name\"] == \"Thomas High School\") & (school_data_complete_df[\"grade\"] == \"9th\"), :].count()\r\n",
    "\r\n",
    "\r\n",
    "# Get the total student count \r\n",
    "\r\n",
    "student_count = school_data_complete_df[\"Student ID\"].count()\r\n",
    "\r\n",
    "# Step 2. Subtract the number of students that are in ninth grade at \r\n",
    "# Thomas High School from the total student count to get the new total student count.\r\n",
    "\r\n",
    "new_student_count = student_count - ths_student_count[\"Student ID\"]\r\n",
    "\r\n",
    "new_student_count\r\n"
   ],
   "outputs": [],
   "metadata": {
    "scrolled": true
   }
  },
  {
   "cell_type": "code",
   "execution_count": null,
   "source": [
    "# Calculate the passing rates using the \"clean_student_data\".\r\n",
    "passing_math_count = school_data_complete_df[(school_data_complete_df[\"math_score\"] >= 70)].count()[\"student_name\"]\r\n",
    "passing_reading_count = school_data_complete_df[(school_data_complete_df[\"reading_score\"] >= 70)].count()[\"student_name\"]"
   ],
   "outputs": [],
   "metadata": {}
  },
  {
   "cell_type": "code",
   "execution_count": null,
   "source": [
    "# Step 3. Calculate the passing percentages with the new total student count.\r\n",
    "passing_math = school_data_complete_df[\"math_score\"] >= 70\r\n",
    "passing_reading = school_data_complete_df[\"reading_score\"] >= 70\r\n"
   ],
   "outputs": [],
   "metadata": {}
  },
  {
   "cell_type": "code",
   "execution_count": null,
   "source": [
    "# Calculate the percent that passed math.\r\n",
    "passing_math_percentage = passing_math_count / float(new_student_count) * 100\r\n",
    "\r\n",
    "# Calculate the percent that passed reading.\r\n",
    "passing_reading_percentage = passing_reading_count / float(new_student_count) * 100"
   ],
   "outputs": [],
   "metadata": {}
  },
  {
   "cell_type": "code",
   "execution_count": null,
   "source": [
    "# Calculate the students who passed both reading and math.\r\n",
    "passing_math_reading = school_data_complete_df[(school_data_complete_df[\"math_score\"] >= 70)\r\n",
    "                                               & (school_data_complete_df[\"reading_score\"] >= 70)]\r\n",
    "\r\n",
    "# Calculate the number of students that passed both reading and math.\r\n",
    "overall_passing_math_reading_count = passing_math_reading[\"student_name\"].count()\r\n",
    "\r\n",
    "\r\n",
    "# Step 4.Calculate the overall passing percentage with new total student count.\r\n",
    "overall_passing_percentage = overall_passing_math_reading_count / new_student_count * 100\r\n"
   ],
   "outputs": [],
   "metadata": {}
  },
  {
   "cell_type": "code",
   "execution_count": null,
   "source": [
    "# Create a DataFrame\r\n",
    "district_summary_df = pd.DataFrame(\r\n",
    "          [{\"Total Schools\": school_count, \r\n",
    "          \"Total Students\": student_count, \r\n",
    "          \"Total Budget\": total_budget,\r\n",
    "          \"Average Math Score\": average_math_score, \r\n",
    "          \"Average Reading Score\": average_reading_score,\r\n",
    "          \"% Passing Math\": passing_math_percentage,\r\n",
    "         \"% Passing Reading\": passing_reading_percentage,\r\n",
    "        \"% Overall Passing\": overall_passing_percentage}])\r\n",
    "\r\n",
    "\r\n",
    "\r\n",
    "# Format the \"Total Students\" to have the comma for a thousands separator.\r\n",
    "district_summary_df[\"Total Students\"] = district_summary_df[\"Total Students\"].map(\"{:,}\".format)\r\n",
    "# Format the \"Total Budget\" to have the comma for a thousands separator, a decimal separator and a \"$\".\r\n",
    "district_summary_df[\"Total Budget\"] = district_summary_df[\"Total Budget\"].map(\"${:,.2f}\".format)\r\n",
    "# Format the columns.\r\n",
    "district_summary_df[\"Average Math Score\"] = district_summary_df[\"Average Math Score\"].map(\"{:.1f}\".format)\r\n",
    "district_summary_df[\"Average Reading Score\"] = district_summary_df[\"Average Reading Score\"].map(\"{:.1f}\".format)\r\n",
    "district_summary_df[\"% Passing Math\"] = district_summary_df[\"% Passing Math\"].map(\"{:.1f}\".format)\r\n",
    "district_summary_df[\"% Passing Reading\"] = district_summary_df[\"% Passing Reading\"].map(\"{:.1f}\".format)\r\n",
    "district_summary_df[\"% Overall Passing\"] = district_summary_df[\"% Overall Passing\"].map(\"{:.1f}\".format)\r\n",
    "\r\n",
    "# Display the data frame\r\n",
    "district_summary_df"
   ],
   "outputs": [],
   "metadata": {}
  },
  {
   "cell_type": "code",
   "execution_count": null,
   "source": [
    "# Determine the School Type\r\n",
    "per_school_types = school_data_df.set_index([\"school_name\"])[\"type\"]\r\n",
    "\r\n",
    "# Calculate the total student count.\r\n",
    "per_school_counts = school_data_complete_df[\"school_name\"].value_counts()\r\n",
    "\r\n",
    "# Calculate the total school budget and per capita spending\r\n",
    "per_school_budget = school_data_complete_df.groupby([\"school_name\"]).mean()[\"budget\"]\r\n",
    "# Calculate the per capita spending.\r\n",
    "per_school_capita = per_school_budget / per_school_counts\r\n",
    "\r\n",
    "# Calculate the average test scores.\r\n",
    "per_school_math = school_data_complete_df.groupby([\"school_name\"]).mean()[\"math_score\"]\r\n",
    "per_school_reading = school_data_complete_df.groupby([\"school_name\"]).mean()[\"reading_score\"]\r\n",
    "\r\n",
    "# Calculate the passing scores by creating a filtered DataFrame.\r\n",
    "per_school_passing_math = school_data_complete_df[(school_data_complete_df[\"math_score\"] >= 70)]\r\n",
    "per_school_passing_reading = school_data_complete_df[(school_data_complete_df[\"reading_score\"] >= 70)]\r\n",
    "\r\n",
    "# Calculate the number of students passing math and passing reading by school.\r\n",
    "per_school_passing_math = per_school_passing_math.groupby([\"school_name\"]).count()[\"student_name\"]\r\n",
    "per_school_passing_reading = per_school_passing_reading.groupby([\"school_name\"]).count()[\"student_name\"]\r\n",
    "\r\n",
    "# Calculate the percentage of passing math and reading scores per school.\r\n",
    "per_school_passing_math = per_school_passing_math / per_school_counts * 100\r\n",
    "per_school_passing_reading = per_school_passing_reading / per_school_counts * 100\r\n",
    "\r\n",
    "# Calculate the students who passed both reading and math.\r\n",
    "per_passing_math_reading = school_data_complete_df[(school_data_complete_df[\"reading_score\"] >= 70)\r\n",
    "                                               & (school_data_complete_df[\"math_score\"] >= 70)]\r\n",
    "\r\n",
    "# Calculate the number of students passing math and passing reading by school.\r\n",
    "per_passing_math_reading = per_passing_math_reading.groupby([\"school_name\"]).count()[\"student_name\"]\r\n",
    "\r\n",
    "# Calculate the percentage of passing math and reading scores per school.\r\n",
    "per_overall_passing_percentage = per_passing_math_reading / per_school_counts * 100"
   ],
   "outputs": [],
   "metadata": {}
  },
  {
   "cell_type": "code",
   "execution_count": null,
   "source": [
    "# Create the DataFrame\r\n",
    "per_school_summary_df = pd.DataFrame({\r\n",
    "    \"School Type\": per_school_types,\r\n",
    "    \"Total Students\": per_school_counts,\r\n",
    "    \"Total School Budget\": per_school_budget,\r\n",
    "    \"Per Student Budget\": per_school_capita,\r\n",
    "    \"Average Math Score\": per_school_math,\r\n",
    "    \"Average Reading Score\": per_school_reading,\r\n",
    "    \"% Passing Math\": per_school_passing_math,\r\n",
    "    \"% Passing Reading\": per_school_passing_reading,\r\n",
    "    \"% Overall Passing\": per_overall_passing_percentage})\r\n",
    "\r\n",
    "\r\n",
    "# per_school_summary_df.head()"
   ],
   "outputs": [],
   "metadata": {}
  },
  {
   "cell_type": "code",
   "execution_count": null,
   "source": [
    "# Format the Total School Budget and the Per Student Budget\r\n",
    "per_school_summary_df[\"Total School Budget\"] = per_school_summary_df[\"Total School Budget\"].map(\"${:,.2f}\".format)\r\n",
    "per_school_summary_df[\"Per Student Budget\"] = per_school_summary_df[\"Per Student Budget\"].map(\"${:,.2f}\".format)\r\n",
    "\r\n",
    "# Display the data frame\r\n",
    "per_school_summary_df"
   ],
   "outputs": [],
   "metadata": {}
  },
  {
   "cell_type": "code",
   "execution_count": null,
   "source": [
    "# Step 5.  Get the number of 10th-12th graders from Thomas High School (THS).\r\n",
    "\r\n",
    "ths_df = school_data_complete_df.loc[(school_data_complete_df[\"school_name\"] == \"Thomas High School\"), :]\r\n",
    "\r\n",
    "ths_count = ths_df[\"school_name\"].count()\r\n",
    "\r\n",
    "ths_count"
   ],
   "outputs": [],
   "metadata": {}
  },
  {
   "cell_type": "code",
   "execution_count": null,
   "source": [
    "# Step 6. Get all the students passing math from THS\r\n",
    "ths_passing_math = ths_df[(ths_df[\"math_score\"] >= 70)]\r\n",
    "\r\n",
    "ths_passing_math = ths_passing_math.groupby([\"school_name\"]).count()[\"student_name\"]\r\n",
    "\r\n",
    "ths_passing_math"
   ],
   "outputs": [],
   "metadata": {
    "scrolled": true
   }
  },
  {
   "cell_type": "code",
   "execution_count": null,
   "source": [
    "# Step 7. Get all the students passing reading from THS\r\n",
    "\r\n",
    "ths_passing_reading = ths_df[(ths_df[\"reading_score\"] >= 70)]\r\n",
    "\r\n",
    "ths_passing_reading = ths_passing_reading.groupby([\"school_name\"]).count()[\"student_name\"]\r\n",
    "\r\n",
    "ths_passing_reading\r\n"
   ],
   "outputs": [],
   "metadata": {}
  },
  {
   "cell_type": "code",
   "execution_count": null,
   "source": [
    "# Step 8. Get all the students passing math and reading from THS\r\n",
    "# Calculate the number of students passing math.\r\n",
    "\r\n",
    "ths_passing_math_reading = ths_df[(ths_df[\"reading_score\"] >= 70)\r\n",
    "                                               & (ths_df[\"math_score\"] >= 70)]\r\n",
    "\r\n",
    "# Calculate the number of students passing math and passing reading by school.\r\n",
    "ths_passing_math_reading = ths_passing_math_reading.groupby([\"school_name\"]).count()[\"student_name\"]\r\n",
    "\r\n",
    "ths_passing_math_reading\r\n"
   ],
   "outputs": [],
   "metadata": {}
  },
  {
   "cell_type": "code",
   "execution_count": null,
   "source": [
    "# Step 9. Calculate the percentage of 10th-12th grade students passing math from Thomas High School. \r\n",
    "ths_passing_math = ths_passing_math / ths_count * 100\r\n",
    "\r\n",
    "ths_passing_math"
   ],
   "outputs": [],
   "metadata": {}
  },
  {
   "cell_type": "code",
   "execution_count": null,
   "source": [
    "# Step 10. Calculate the percentage of 10th-12th grade students passing reading from Thomas High School.\r\n",
    "ths_passing_reading = ths_passing_reading / ths_count * 100\r\n",
    "\r\n",
    "ths_passing_reading "
   ],
   "outputs": [],
   "metadata": {}
  },
  {
   "cell_type": "code",
   "execution_count": null,
   "source": [
    "# Step 11. Calculate the overall passing percentage of 10th-12th grade from Thomas High School. \r\n",
    "ths_passing_math_reading = ths_df[(ths_df[\"math_score\"] >= 70)\r\n",
    "                                               & (ths_df[\"reading_score\"] >= 70)]\r\n",
    "\r\n",
    "# Calculate the number of students that passed both reading and math.\r\n",
    "overall_ths_passing_math_reading_count = ths_passing_math_reading[\"student_name\"].count()\r\n",
    "\r\n",
    "ths_overall_passing_percentage = overall_ths_passing_math_reading_count / ths_count * 100\r\n",
    "\r\n",
    "ths_overall_passing_percentage"
   ],
   "outputs": [],
   "metadata": {}
  },
  {
   "cell_type": "code",
   "execution_count": null,
   "source": [
    "per_school_summary_df"
   ],
   "outputs": [],
   "metadata": {}
  },
  {
   "cell_type": "code",
   "execution_count": null,
   "source": [
    "# Sort and show top five schools.\r\n",
    "top_schools = per_school_summary_df.sort_values([\"% Overall Passing\"], ascending=False)\r\n",
    "\r\n",
    "top_schools"
   ],
   "outputs": [],
   "metadata": {}
  },
  {
   "cell_type": "code",
   "execution_count": null,
   "source": [
    "# Sort and show top five schools.\r\n",
    "bottom_schools = per_school_summary_df.sort_values([\"% Overall Passing\"])\r\n",
    "bottom_schools.head(10)"
   ],
   "outputs": [],
   "metadata": {}
  },
  {
   "cell_type": "code",
   "execution_count": null,
   "source": [
    "# Create a Series of scores by grade levels using conditionals.\r\n",
    "ninth_graders = school_data_complete_df[(school_data_complete_df[\"grade\"] == \"9th\")]\r\n",
    "\r\n",
    "tenth_graders = school_data_complete_df[(school_data_complete_df[\"grade\"] == \"10th\")]\r\n",
    "\r\n",
    "eleventh_graders = school_data_complete_df[(school_data_complete_df[\"grade\"] == \"11th\")]\r\n",
    "\r\n",
    "twelfth_graders = school_data_complete_df[(school_data_complete_df[\"grade\"] == \"12th\")]\r\n",
    "\r\n",
    "# Group each school Series by the school name for the average math score.\r\n",
    "ninth_grade_math_scores = ninth_graders.groupby([\"school_name\"]).mean()[\"math_score\"]\r\n",
    "\r\n",
    "tenth_grade_math_scores = tenth_graders.groupby([\"school_name\"]).mean()[\"math_score\"]\r\n",
    "\r\n",
    "eleventh_grade_math_scores = eleventh_graders.groupby([\"school_name\"]).mean()[\"math_score\"]\r\n",
    "\r\n",
    "twelfth_grade_math_scores = twelfth_graders.groupby([\"school_name\"]).mean()[\"math_score\"]\r\n",
    "\r\n",
    "\r\n",
    "# Group each school Series by the school name for the average reading score.\r\n",
    "ninth_grade_reading_scores = ninth_graders.groupby([\"school_name\"]).mean()[\"reading_score\"]\r\n",
    "\r\n",
    "tenth_grade_reading_scores = tenth_graders.groupby([\"school_name\"]).mean()[\"reading_score\"]\r\n",
    "\r\n",
    "eleventh_grade_reading_scores = eleventh_graders.groupby([\"school_name\"]).mean()[\"reading_score\"]\r\n",
    "\r\n",
    "twelfth_grade_reading_scores = twelfth_graders.groupby([\"school_name\"]).mean()[\"reading_score\"]\r\n",
    "\r\n",
    "twelfth_grade_reading_scores"
   ],
   "outputs": [],
   "metadata": {}
  },
  {
   "cell_type": "code",
   "execution_count": null,
   "source": [
    "# Combine each Series for average math scores by school into single data frame.\r\n",
    "math_scores_by_grade = pd.DataFrame({\r\n",
    "               \"9th\": ninth_grade_math_scores,\r\n",
    "               \"10th\": tenth_grade_math_scores,\r\n",
    "               \"11th\": eleventh_grade_math_scores,\r\n",
    "               \"12th\": twelfth_grade_math_scores})\r\n",
    "\r\n",
    "math_scores_by_grade.head()"
   ],
   "outputs": [],
   "metadata": {}
  },
  {
   "cell_type": "code",
   "execution_count": null,
   "source": [
    "# Combine each Series for average reading scores by school into single data frame.\r\n",
    "reading_scores_by_grade = pd.DataFrame({\r\n",
    "              \"9th\": ninth_grade_reading_scores,\r\n",
    "              \"10th\": tenth_grade_reading_scores,\r\n",
    "              \"11th\": eleventh_grade_reading_scores,\r\n",
    "              \"12th\": twelfth_grade_reading_scores})\r\n",
    "\r\n",
    "reading_scores_by_grade.head()"
   ],
   "outputs": [],
   "metadata": {}
  },
  {
   "cell_type": "code",
   "execution_count": null,
   "source": [
    "  # Format each grade column.\r\n",
    "  math_scores_by_grade[\"9th\"] = math_scores_by_grade[\"9th\"].map(\"{:.1f}\".format)\r\n",
    "\r\n",
    "  math_scores_by_grade[\"10th\"] = math_scores_by_grade[\"10th\"].map(\"{:.1f}\".format)\r\n",
    "\r\n",
    "  math_scores_by_grade[\"11th\"] = math_scores_by_grade[\"11th\"].map(\"{:.1f}\".format)\r\n",
    "\r\n",
    "  math_scores_by_grade[\"12th\"] = math_scores_by_grade[\"12th\"].map(\"{:.1f}\".format)\r\n",
    "\r\n",
    "  # Make sure the columns are in the correct order.\r\n",
    "  math_scores_by_grade = math_scores_by_grade[\r\n",
    "                 [\"9th\", \"10th\", \"11th\", \"12th\"]]\r\n",
    "\r\n",
    "  # Remove the index name.\r\n",
    "  math_scores_by_grade.index.name = None\r\n",
    "  # Display the DataFrame.\r\n",
    "  math_scores_by_grade.head()\r\n"
   ],
   "outputs": [],
   "metadata": {}
  },
  {
   "cell_type": "code",
   "execution_count": null,
   "source": [
    "  # Format each grade column.\r\n",
    "  reading_scores_by_grade[\"9th\"] = reading_scores_by_grade[\"9th\"].map(\"{:,.1f}\".format)\r\n",
    "\r\n",
    "  reading_scores_by_grade[\"10th\"] = reading_scores_by_grade[\"10th\"].map(\"{:,.1f}\".format)\r\n",
    "\r\n",
    "  reading_scores_by_grade[\"11th\"] = reading_scores_by_grade[\"11th\"].map(\"{:,.1f}\".format)\r\n",
    "\r\n",
    "  reading_scores_by_grade[\"12th\"] = reading_scores_by_grade[\"12th\"].map(\"{:,.1f}\".format)\r\n",
    "\r\n",
    "  # Make sure the columns are in the correct order.\r\n",
    "  reading_scores_by_grade = reading_scores_by_grade[\r\n",
    "                 [\"9th\", \"10th\", \"11th\", \"12th\"]]\r\n",
    "\r\n",
    "  # Remove the index name.\r\n",
    "  reading_scores_by_grade.index.name = None\r\n",
    "  # Display the data frame.\r\n",
    "  reading_scores_by_grade.head()"
   ],
   "outputs": [],
   "metadata": {}
  },
  {
   "cell_type": "code",
   "execution_count": null,
   "source": [
    "# Cut the per_school_capita into the spending ranges.\n",
    "spending_bins = [0, 585, 615, 645, 675]\n",
    "per_school_capita.groupby(pd.cut(per_school_capita, spending_bins)).count()"
   ],
   "outputs": [],
   "metadata": {}
  },
  {
   "cell_type": "code",
   "execution_count": null,
   "source": [
    "# Establish the spending bins and group names.\n",
    "spending_bins = [0, 585, 630, 645, 675]\n",
    "group_names = [\"<$584\", \"$585-629\", \"$630-644\", \"$645-675\"]\n",
    "\n",
    "\n",
    "# Categorize spending based on the bins.\n",
    "# Categorize spending based on the bins.\n",
    "per_school_summary_df[\"Spending Ranges (Per Student)\"] = pd.cut(per_school_capita, spending_bins, labels=group_names)\n",
    "\n",
    "per_school_summary_df"
   ],
   "outputs": [],
   "metadata": {}
  },
  {
   "cell_type": "code",
   "execution_count": null,
   "source": [
    "# Calculate averages for the desired columns. \n",
    "spending_math_scores = per_school_summary_df.groupby([\"Spending Ranges (Per Student)\"]).mean()[\"Average Math Score\"]\n",
    "\n",
    "spending_reading_scores = per_school_summary_df.groupby([\"Spending Ranges (Per Student)\"]).mean()[\"Average Reading Score\"]\n",
    "\n",
    "spending_passing_math = per_school_summary_df.groupby([\"Spending Ranges (Per Student)\"]).mean()[\"% Passing Math\"]\n",
    "\n",
    "spending_passing_reading = per_school_summary_df.groupby([\"Spending Ranges (Per Student)\"]).mean()[\"% Passing Reading\"]\n",
    "\n",
    "overall_passing_spending = per_school_summary_df.groupby([\"Spending Ranges (Per Student)\"]).mean()[\"% Overall Passing\"]\n",
    "\n",
    "overall_passing_spending"
   ],
   "outputs": [],
   "metadata": {}
  },
  {
   "cell_type": "code",
   "execution_count": null,
   "source": [
    "# Create the DataFrame\n",
    "spending_summary_df = pd.DataFrame({\n",
    "          \"Average Math Score\" : spending_math_scores,\n",
    "          \"Average Reading Score\": spending_reading_scores,\n",
    "          \"% Passing Math\": spending_passing_math,\n",
    "          \"% Passing Reading\": spending_passing_reading,\n",
    "          \"% Overall Passing\": overall_passing_spending})\n",
    "\n",
    "spending_summary_df"
   ],
   "outputs": [],
   "metadata": {}
  },
  {
   "cell_type": "code",
   "execution_count": null,
   "source": [
    "# Format the DataFrame \n",
    "spending_summary_df[\"Average Math Score\"] = spending_summary_df[\"Average Math Score\"].map(\"{:.1f}\".format)\n",
    "\n",
    "spending_summary_df[\"Average Reading Score\"] = spending_summary_df[\"Average Reading Score\"].map(\"{:.1f}\".format)\n",
    "\n",
    "spending_summary_df[\"% Passing Math\"] = spending_summary_df[\"% Passing Math\"].map(\"{:.0f}\".format)\n",
    "\n",
    "spending_summary_df[\"% Passing Reading\"] = spending_summary_df[\"% Passing Reading\"].map(\"{:.0f}\".format)\n",
    "\n",
    "spending_summary_df[\"% Overall Passing\"] = spending_summary_df[\"% Overall Passing\"].map(\"{:.0f}\".format)\n",
    "\n",
    "spending_summary_df"
   ],
   "outputs": [],
   "metadata": {}
  },
  {
   "cell_type": "code",
   "execution_count": null,
   "source": [
    "# Establish the bins.\n",
    "size_bins = [0, 1000, 2000, 5000]\n",
    "group_names = [\"Small (<1000)\", \"Medium (1000-2000)\", \"Large (2000-5000)\"]\n",
    "\n",
    "# Categorize spending based on the bins.\n",
    "per_school_summary_df[\"School Size\"] = pd.cut(per_school_summary_df[\"Total Students\"], size_bins, labels=group_names)\n",
    "\n",
    "per_school_summary_df"
   ],
   "outputs": [],
   "metadata": {}
  },
  {
   "cell_type": "code",
   "execution_count": null,
   "source": [
    "# Calculate averages for the desired columns.\n",
    "size_math_scores = per_school_summary_df.groupby([\"School Size\"]).mean()[\"Average Math Score\"]\n",
    "\n",
    "size_reading_scores = per_school_summary_df.groupby([\"School Size\"]).mean()[\"Average Reading Score\"]\n",
    "\n",
    "size_passing_math = per_school_summary_df.groupby([\"School Size\"]).mean()[\"% Passing Math\"]\n",
    "\n",
    "size_passing_reading = per_school_summary_df.groupby([\"School Size\"]).mean()[\"% Passing Reading\"]\n",
    "\n",
    "size_overall_passing = per_school_summary_df.groupby([\"School Size\"]).mean()[\"% Overall Passing\"]"
   ],
   "outputs": [],
   "metadata": {}
  },
  {
   "cell_type": "code",
   "execution_count": null,
   "source": [
    "# Assemble into DataFrame. \n",
    "size_summary_df = pd.DataFrame({\n",
    "          \"Average Math Score\" : size_math_scores,\n",
    "          \"Average Reading Score\": size_reading_scores,\n",
    "          \"% Passing Math\": size_passing_math,\n",
    "          \"% Passing Reading\": size_passing_reading,\n",
    "          \"% Overall Passing\": size_overall_passing})\n",
    "\n",
    "size_summary_df"
   ],
   "outputs": [],
   "metadata": {}
  },
  {
   "cell_type": "code",
   "execution_count": null,
   "source": [
    "# Format the DataFrame  \n",
    "size_summary_df[\"Average Math Score\"] = size_summary_df[\"Average Math Score\"].map(\"{:.1f}\".format)\n",
    "\n",
    "size_summary_df[\"Average Reading Score\"] = size_summary_df[\"Average Reading Score\"].map(\"{:.1f}\".format)\n",
    "\n",
    "size_summary_df[\"% Passing Math\"] = size_summary_df[\"% Passing Math\"].map(\"{:.0f}\".format)\n",
    "\n",
    "size_summary_df[\"% Passing Reading\"] = size_summary_df[\"% Passing Reading\"].map(\"{:.0f}\".format)\n",
    "\n",
    "size_summary_df[\"% Overall Passing\"] = size_summary_df[\"% Overall Passing\"].map(\"{:.0f}\".format)\n",
    "\n",
    "size_summary_df"
   ],
   "outputs": [],
   "metadata": {}
  },
  {
   "cell_type": "code",
   "execution_count": null,
   "source": [
    "# Calculate averages for the desired columns. \n",
    "size_math_scores = per_school_summary_df.groupby([\"School Size\"]).mean()[\"Average Math Score\"]\n",
    "\n",
    "size_reading_scores = per_school_summary_df.groupby([\"School Size\"]).mean()[\"Average Reading Score\"]\n",
    "\n",
    "size_passing_math = per_school_summary_df.groupby([\"School Size\"]).mean()[\"% Passing Math\"]\n",
    "\n",
    "size_passing_reading = per_school_summary_df.groupby([\"School Size\"]).mean()[\"% Passing Reading\"]\n",
    "\n",
    "size_overall_passing = per_school_summary_df.groupby([\"School Size\"]).mean()[\"% Overall Passing\"]"
   ],
   "outputs": [],
   "metadata": {}
  },
  {
   "cell_type": "code",
   "execution_count": null,
   "source": [
    "type_math_scores = per_school_summary_df.groupby([\"School Type\"]).mean()[\"Average Math Score\"]\n",
    "\n",
    "type_reading_scores = per_school_summary_df.groupby([\"School Type\"]).mean()[\"Average Reading Score\"]\n",
    "\n",
    "type_passing_math = per_school_summary_df.groupby([\"School Type\"]).mean()[\"% Passing Math\"]\n",
    "\n",
    "type_passing_reading = per_school_summary_df.groupby([\"School Type\"]).mean()[\"% Passing Reading\"]\n",
    "\n",
    "type_overall_passing = per_school_summary_df.groupby([\"School Type\"]).mean()[\"% Overall Passing\"]"
   ],
   "outputs": [],
   "metadata": {}
  },
  {
   "cell_type": "code",
   "execution_count": null,
   "source": [
    "# Assemble into DataFrame.\n",
    "type_summary_df = pd.DataFrame({\n",
    "          \"Average Math Score\" : type_math_scores,\n",
    "          \"Average Reading Score\": type_reading_scores,\n",
    "          \"% Passing Math\": type_passing_math,\n",
    "          \"% Passing Reading\": type_passing_reading,\n",
    "          \"% Overall Passing\": type_overall_passing})\n",
    "\n",
    "type_summary_df"
   ],
   "outputs": [],
   "metadata": {}
  },
  {
   "cell_type": "code",
   "execution_count": null,
   "source": [
    "# # Format the DataFrame \n",
    "# # Format the DataFrame \n",
    "type_summary_df[\"Average Math Score\"] = type_summary_df[\"Average Math Score\"].map(\"{:.1f}\".format)\n",
    "\n",
    "type_summary_df[\"Average Reading Score\"] = type_summary_df[\"Average Reading Score\"].map(\"{:.1f}\".format)\n",
    "\n",
    "type_summary_df[\"% Passing Math\"] = type_summary_df[\"% Passing Math\"].map(\"{:.0f}\".format)\n",
    "\n",
    "type_summary_df[\"% Passing Reading\"] = type_summary_df[\"% Passing Reading\"].map(\"{:.0f}\".format)\n",
    "\n",
    "type_summary_df[\"% Overall Passing\"] = type_summary_df[\"% Overall Passing\"].map(\"{:.0f}\".format)\n",
    "\n",
    "type_summary_df"
   ],
   "outputs": [],
   "metadata": {}
  }
 ],
 "metadata": {
  "kernelspec": {
   "display_name": "PythonData",
   "language": "python",
   "name": "pythondata"
  },
  "language_info": {
   "codemirror_mode": {
    "name": "ipython",
    "version": 3
   },
   "file_extension": ".py",
   "mimetype": "text/x-python",
   "name": "python",
   "nbconvert_exporter": "python",
   "pygments_lexer": "ipython3",
   "version": "3.9.6"
  }
 },
 "nbformat": 4,
 "nbformat_minor": 5
}